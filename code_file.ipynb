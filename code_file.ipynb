{
 "cells": [
  {
   "cell_type": "markdown",
   "metadata": {},
   "source": [
    "# Importing Libraries"
   ]
  },
  {
   "cell_type": "code",
   "execution_count": 1,
   "metadata": {},
   "outputs": [],
   "source": [
    "import pandas as pd\n",
    "import numpy as np\n",
    "import matplotlib.pyplot as plt"
   ]
  },
  {
   "cell_type": "markdown",
   "metadata": {},
   "source": [
    "# Loading Dataset"
   ]
  },
  {
   "cell_type": "code",
   "execution_count": 2,
   "metadata": {},
   "outputs": [
    {
     "data": {
      "text/html": [
       "<div>\n",
       "<style scoped>\n",
       "    .dataframe tbody tr th:only-of-type {\n",
       "        vertical-align: middle;\n",
       "    }\n",
       "\n",
       "    .dataframe tbody tr th {\n",
       "        vertical-align: top;\n",
       "    }\n",
       "\n",
       "    .dataframe thead th {\n",
       "        text-align: right;\n",
       "    }\n",
       "</style>\n",
       "<table border=\"1\" class=\"dataframe\">\n",
       "  <thead>\n",
       "    <tr style=\"text-align: right;\">\n",
       "      <th></th>\n",
       "      <th>Temperature (°C)</th>\n",
       "      <th>Ice Cream Sales (units)</th>\n",
       "    </tr>\n",
       "  </thead>\n",
       "  <tbody>\n",
       "    <tr>\n",
       "      <th>0</th>\n",
       "      <td>-4.662263</td>\n",
       "      <td>41.842986</td>\n",
       "    </tr>\n",
       "    <tr>\n",
       "      <th>1</th>\n",
       "      <td>-4.316559</td>\n",
       "      <td>34.661120</td>\n",
       "    </tr>\n",
       "    <tr>\n",
       "      <th>2</th>\n",
       "      <td>-4.213985</td>\n",
       "      <td>39.383001</td>\n",
       "    </tr>\n",
       "    <tr>\n",
       "      <th>3</th>\n",
       "      <td>-3.949661</td>\n",
       "      <td>37.539845</td>\n",
       "    </tr>\n",
       "    <tr>\n",
       "      <th>4</th>\n",
       "      <td>-3.578554</td>\n",
       "      <td>32.284531</td>\n",
       "    </tr>\n",
       "  </tbody>\n",
       "</table>\n",
       "</div>"
      ],
      "text/plain": [
       "   Temperature (°C)  Ice Cream Sales (units)\n",
       "0         -4.662263                41.842986\n",
       "1         -4.316559                34.661120\n",
       "2         -4.213985                39.383001\n",
       "3         -3.949661                37.539845\n",
       "4         -3.578554                32.284531"
      ]
     },
     "execution_count": 2,
     "metadata": {},
     "output_type": "execute_result"
    }
   ],
   "source": [
    "df = pd.read_csv('Ice_cream_selling_data.csv')\n",
    "df.head()"
   ]
  },
  {
   "cell_type": "code",
   "execution_count": 3,
   "metadata": {},
   "outputs": [
    {
     "name": "stderr",
     "output_type": "stream",
     "text": [
      "/tmp/ipykernel_13771/2248549949.py:6: UserWarning: FigureCanvasAgg is non-interactive, and thus cannot be shown\n",
      "  fig.show()\n"
     ]
    },
    {
     "data": {
      "image/png": "[encoded data removed]",
      "text/plain": [
       "<Figure size 640x480 with 1 Axes>"
      ]
     },
     "metadata": {},
     "output_type": "display_data"
    }
   ],
   "source": [
    "X = df['Temperature (°C)']\n",
    "Y = df['Ice Cream Sales (units)']\n",
    "\n",
    "fig, ax = plt.subplots(1,1)\n",
    "ax.scatter(X, Y)\n",
    "fig.show()"
   ]
  },
  {
   "cell_type": "markdown",
   "metadata": {},
   "source": [
    "# Building Algorithm"
   ]
  },
  {
   "cell_type": "code",
   "execution_count": 1,
   "metadata": {},
   "outputs": [],
   "source": [
    "class PolynomialRegression:\n",
    "    def __init__(self, learning_rate:float, epochs:int):\n",
    "        self.learning_rate = learning_rate\n",
    "        self.epochs = epochs\n",
    "        self.theta_vector = np.array([])\n",
    "    \n",
    "    def fit(self, features, labels):\n",
    "        df = pd.DataFrame()\n",
    "        df['X0'] = np.ones((features.shape[0]))\n",
    "        df['X'] = np.array(features)\n",
    "        df['X2'] = np.array(features)**2\n",
    "        df['y'] = np.array(labels)\n",
    "\n",
    "        X = np.array(df.drop(columns='y'))\n",
    "        Y = np.array(df['y'])\n",
    "\n",
    "        Y = Y.reshape((Y.size, 1))\n",
    "\n",
    "        self.theta_vector = np.zeros((len(list(df.columns)[:-1]), 1))\n",
    "\n",
    "        m = Y.shape[0]\n",
    "\n",
    "        for _ in range(self.epochs):\n",
    "            predictions = np.matmul(X, self.theta_vector)\n",
    "\n",
    "            errors = predictions - Y\n",
    "\n",
    "            self.theta_vector = self.theta_vector - (self.learning_rate/m)*np.matmul(X.T, errors)\n",
    "        \n",
    "    def predict(self, x_test:float):\n",
    "        y_pred = self.theta_vector[0] + self.theta_vector[1]*x_test + self.theta_vector[2]*(x_test**2)\n",
    "        return(y_pred)"
   ]
  },
  {
   "cell_type": "code",
   "execution_count": null,
   "metadata": {},
   "outputs": [],
   "source": []
  }
 ],
 "metadata": {
  "kernelspec": {
   "display_name": "tf",
   "language": "python",
   "name": "python3"
  },
  "language_info": {
   "codemirror_mode": {
    "name": "ipython",
    "version": 3
   },
   "file_extension": ".py",
   "mimetype": "text/x-python",
   "name": "python",
   "nbconvert_exporter": "python",
   "pygments_lexer": "ipython3",
   "version": "3.9.18"
  }
 },
 "nbformat": 4,
 "nbformat_minor": 2
}
